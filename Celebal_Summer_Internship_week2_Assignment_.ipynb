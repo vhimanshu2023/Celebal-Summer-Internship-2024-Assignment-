{
  "nbformat": 4,
  "nbformat_minor": 0,
  "metadata": {
    "colab": {
      "provenance": []
    },
    "kernelspec": {
      "name": "python3",
      "display_name": "Python 3"
    },
    "language_info": {
      "name": "python"
    }
  },
  "cells": [
    {
      "cell_type": "markdown",
      "source": [
        "# **Week 2 Assignment**"
      ],
      "metadata": {
        "id": "reiD3I4aumwe"
      }
    },
    {
      "cell_type": "markdown",
      "source": [
        "**Task 1 :- Capitalize!**"
      ],
      "metadata": {
        "id": "3MrfLSWruaZv"
      }
    },
    {
      "cell_type": "code",
      "source": [
        "# You are asked to ensure that the first and last names of people begin with a capital letter in their passports. For example, alison heck should be capitalised correctly as Alison Heck.\n",
        "\n",
        "\n",
        "# Given a full name, your task is to capitalize the name appropriately.\n",
        "\n",
        "# Input Format\n",
        "\n",
        "# A single line of input containing the full name, S.\n",
        "\n",
        "# Sample Input\n",
        "\n",
        "# chris alan\n",
        "# Sample Output\n",
        "\n",
        "# Chris Alan"
      ],
      "metadata": {
        "id": "rqrHLDG7ugnj"
      },
      "execution_count": null,
      "outputs": []
    },
    {
      "cell_type": "code",
      "source": [
        "#!/bin/python3\n",
        "\n",
        "import math\n",
        "import os\n",
        "import random\n",
        "import re\n",
        "import sys\n",
        "\n",
        "# Complete the solve function below.\n",
        "def solve(s):\n",
        "    s = s.split(' ')\n",
        "    res = []\n",
        "    for i in s:\n",
        "        res.append(i.capitalize())\n",
        "    return ' '.join(res)\n",
        "\n",
        "if __name__ == '__main__':\n",
        "    fptr = open(os.environ['OUTPUT_PATH'], 'w')\n",
        "\n",
        "    s = input()\n",
        "\n",
        "    result = solve(s)\n",
        "\n",
        "    fptr.write(result + '\\n')\n",
        "\n",
        "    fptr.close()\n"
      ],
      "metadata": {
        "colab": {
          "base_uri": "https://localhost:8080/"
        },
        "id": "whee2uUODnjg",
        "outputId": "340ce786-70d0-4f0f-e696-c2ecab1bff4e"
      },
      "execution_count": 8,
      "outputs": [
        {
          "output_type": "stream",
          "name": "stdout",
          "text": [
            "1 w 2 r 3g\n",
            "1 W 2 R 3g\n"
          ]
        }
      ]
    },
    {
      "cell_type": "markdown",
      "source": [
        "**Task 2 :- Introduction to Sets**"
      ],
      "metadata": {
        "id": "pF_Lhj7zt7g1"
      }
    },
    {
      "cell_type": "code",
      "source": [
        "# A set is an unordered collection of elements without duplicate entries.\n",
        "# When printed, iterated or converted into a sequence, its elements will appear in an arbitrary order.\n",
        "\n",
        "# Example\n",
        "\n",
        "# >>> print set()\n",
        "# set([])\n",
        "\n",
        "# >>> print set('HackerRank')\n",
        "# set(['a', 'c', 'e', 'H', 'k', 'n', 'r', 'R'])\n",
        "\n",
        "# >>> print set([1,2,1,2,3,4,5,6,0,9,12,22,3])\n",
        "# set([0, 1, 2, 3, 4, 5, 6, 9, 12, 22])\n",
        "\n",
        "# >>> print set((1,2,3,4,5,5))\n",
        "# set([1, 2, 3, 4, 5])\n",
        "\n",
        "# >>> print set(set(['H','a','c','k','e','r','r','a','n','k']))\n",
        "# set(['a', 'c', 'r', 'e', 'H', 'k', 'n'])\n",
        "\n",
        "# >>> print set({'Hacker' : 'DOSHI', 'Rank' : 616 })\n",
        "# set(['Hacker', 'Rank'])\n",
        "\n",
        "# >>> print set(enumerate(['H','a','c','k','e','r','r','a','n','k']))\n",
        "# set([(6, 'r'), (7, 'a'), (3, 'k'), (4, 'e'), (5, 'r'), (9, 'k'), (2, 'c'), (0, 'H'), (1, 'a'), (8, 'n')])\n",
        "# Basically, sets are used for membership testing and eliminating duplicate entries.\n",
        "\n",
        "# Task\n",
        "\n",
        "# Now, let's use our knowledge of sets and help Mickey.\n",
        "\n",
        "# Ms. Gabriel Williams is a botany professor at District College. One day, she asked her student Mickey to compute the average of all the plants with distinct heights in her greenhouse.\n",
        "\n",
        "# formula used:\n",
        "#   average = sum of distinct heights / total  number of distinct heights\n",
        "\n",
        "# Sample Input\n",
        "\n",
        "# STDIN                                       Function\n",
        "# -----                                       --------\n",
        "# 10                                          arr[] size N = 10\n",
        "# 161 182 161 154 176 170 167 171 170 174     arr = [161, 181, ..., 174]\n",
        "# Sample Output\n",
        "\n",
        "# 169.375"
      ],
      "metadata": {
        "id": "CnkfUE2xuDc2"
      },
      "execution_count": null,
      "outputs": []
    },
    {
      "cell_type": "code",
      "source": [
        "def average(array):\n",
        "    arr = list(set(array))\n",
        "    return sum(arr)/len(arr)\n",
        "\n",
        "if __name__ == '__main__':\n",
        "    n = int(input())\n",
        "    arr = list(map(int, input().split()))\n",
        "    result = average(arr)\n",
        "    print(result)"
      ],
      "metadata": {
        "id": "RBfgYjTOke-H",
        "colab": {
          "base_uri": "https://localhost:8080/"
        },
        "outputId": "0545bde6-63f4-415f-d441-1211bc56133c"
      },
      "execution_count": 9,
      "outputs": [
        {
          "output_type": "stream",
          "name": "stdout",
          "text": [
            "10\n",
            "161 182 161 154 176 170 167 171 170 174\n",
            "169.375\n"
          ]
        }
      ]
    },
    {
      "cell_type": "markdown",
      "source": [
        "**Task 3 :- Text Wrap**"
      ],
      "metadata": {
        "id": "N3lW-8hPtdGx"
      }
    },
    {
      "cell_type": "code",
      "source": [
        "# You are given a string S and width w.\n",
        "# Your task is to wrap the string into a paragraph of width w.\n",
        "\n",
        "# Function Description\n",
        "\n",
        "# Complete the wrap function in the editor below.\n",
        "\n",
        "# wrap has the following parameters:\n",
        "\n",
        "# - string string: a long string\n",
        "# - int max_width: the width to wrap to\n",
        "# Returns\n",
        "\n",
        "# - string: a single string with newline characters ('\\n') where the breaks should be\n",
        "\n",
        "# Input Format\n",
        "\n",
        "# The first line contains a string, string.\n",
        "# The second line contains the width, max width.\n",
        "\n",
        "# Sample Input 0\n",
        "\n",
        "# ABCDEFGHIJKLIMNOQRSTUVWXYZ\n",
        "# 4\n",
        "# Sample Output 0\n",
        "\n",
        "# ABCD\n",
        "# EFGH\n",
        "# IJKL\n",
        "# IMNO\n",
        "# QRST\n",
        "# UVWX\n",
        "# YZ"
      ],
      "metadata": {
        "id": "Uo3CndFhti51"
      },
      "execution_count": null,
      "outputs": []
    },
    {
      "cell_type": "code",
      "source": [
        "import textwrap\n",
        "\n",
        "def wrap(string, max_width):\n",
        "    return textwrap.fill(string,max_width)\n",
        "\n",
        "if __name__ == '__main__':\n",
        "    string, max_width = input(), int(input())\n",
        "    result = wrap(string, max_width)\n",
        "    print(result)"
      ],
      "metadata": {
        "id": "i8S_6xBOCqXC",
        "colab": {
          "base_uri": "https://localhost:8080/"
        },
        "outputId": "2ddc9553-2f7e-4d27-f718-4837e39d9d83"
      },
      "execution_count": 10,
      "outputs": [
        {
          "output_type": "stream",
          "name": "stdout",
          "text": [
            "ABCDEFGHIJKLIMNOQRSTUVWXYZ\n",
            "4\n",
            "ABCD\n",
            "EFGH\n",
            "IJKL\n",
            "IMNO\n",
            "QRST\n",
            "UVWX\n",
            "YZ\n"
          ]
        }
      ]
    },
    {
      "cell_type": "markdown",
      "source": [
        "**Task 4 :- Alphabet Rangoli**"
      ],
      "metadata": {
        "id": "5u8PVis3tNCm"
      }
    },
    {
      "cell_type": "code",
      "source": [
        "# You are given an integer, N. Your task is to print an alphabet rangoli of size N. (Rangoli is a form of Indian folk art based on creation of patterns.)\n",
        "\n",
        "# Different sizes of alphabet rangoli are shown below:\n",
        "\n",
        "# #size 3\n",
        "\n",
        "# ----c----\n",
        "# --c-b-c--\n",
        "# c-b-a-b-c\n",
        "# --c-b-c--\n",
        "# ----c----\n",
        "\n",
        "# #size 5\n",
        "\n",
        "# --------e--------\n",
        "# ------e-d-e------\n",
        "# ----e-d-c-d-e----\n",
        "# --e-d-c-b-c-d-e--\n",
        "# e-d-c-b-a-b-c-d-e\n",
        "# --e-d-c-b-c-d-e--\n",
        "# ----e-d-c-d-e----\n",
        "# ------e-d-e------\n",
        "# --------e--------\n",
        "\n",
        "# Sample Input\n",
        "\n",
        "# 5\n",
        "# Sample Output\n",
        "\n",
        "# --------e--------\n",
        "# ------e-d-e------\n",
        "# ----e-d-c-d-e----\n",
        "# --e-d-c-b-c-d-e--\n",
        "# e-d-c-b-a-b-c-d-e\n",
        "# --e-d-c-b-c-d-e--\n",
        "# ----e-d-c-d-e----\n",
        "# ------e-d-e------\n",
        "# --------e--------"
      ],
      "metadata": {
        "id": "BJMLhM2ftQyF"
      },
      "execution_count": null,
      "outputs": []
    },
    {
      "cell_type": "code",
      "execution_count": null,
      "metadata": {
        "colab": {
          "base_uri": "https://localhost:8080/"
        },
        "id": "CPFQeHf7kVa_",
        "outputId": "0edef02a-82fc-4853-c7bd-d1c7791f7909"
      },
      "outputs": [
        {
          "output_type": "stream",
          "name": "stdout",
          "text": [
            "--------e--------\n",
            "------e-d-e------\n",
            "----e-d-c-d-e----\n",
            "--e-d-c-b-c-d-e--\n",
            "e-d-c-b-a-b-c-d-e\n",
            "--e-d-c-b-c-d-e--\n",
            "----e-d-c-d-e----\n",
            "------e-d-e------\n",
            "--------e--------\n"
          ]
        }
      ],
      "source": [
        "def print_rangoli(size):\n",
        "    s = 'abcdefghijklmnopqrstuvwxyz'\n",
        "    new_s = s[:size]\n",
        "    finals = []\n",
        "    for i in range(1,len(new_s)+1):\n",
        "        final = new_s[-i:][:0:-1]+new_s[-i:][::]\n",
        "        final = '-'.join(final)\n",
        "        finals.append('-'*(n*2-(2*i))+final+'-'*(n*2-(2*i)))\n",
        "    x = finals[:-1]+finals[::-1]\n",
        "    for i in x:\n",
        "        print(i)\n",
        "if __name__ == '__main__':\n",
        "    n = int(input())\n",
        "    print_rangoli(n)"
      ]
    },
    {
      "cell_type": "markdown",
      "source": [
        "**Task 5 :- Merge the Tools!**"
      ],
      "metadata": {
        "id": "AeUmuwtOlwcE"
      }
    },
    {
      "cell_type": "code",
      "source": [
        "# Consider the following:\n",
        "\n",
        "# - A string, s, of length n where s = C0C1...Cn-1.\n",
        "# - An integer, k, where k is a factor of n.\n",
        "# We can split s into n/k substrings where each subtring, t, consists of a contiguous block of k characters in s. Then, use each t to create string ui such that:\n",
        "\n",
        "# - The characters in ui are a subsequence of the characters in ti.\n",
        "# - Any repeat occurrence of a character is removed from the string such that each character in ui occurs exactly once. In other words, if the character at some index j in ti occurs at a previous index < j in ti, then do not include the character in string ui.\n",
        "# Given s and k, print n/k lines where each line i denotes string ui.\n",
        "\n",
        "# s = 'AAABCADDE'\n",
        "# k = 3\n",
        "\n",
        "# There are three substrings of length 3 to consider: 'AAA', 'BCA' and 'DDE'. The first substring is all 'A' characters, so ui = 'A'. The second substring has all distinct characters, so u2 = 'BCA'. The third substring has 2 different characters, so u3='DE'. Note that a subsequence maintains the original order of characters encountered. The order of characters in each subsequence shown is important.\n",
        "\n",
        "# Prints\n",
        "\n",
        "# Print each subsequence on a new line. There will be n/k of them. No return value is expected.\n",
        "\n",
        "# Input Format\n",
        "\n",
        "# The first line contains a single string, s.\n",
        "# The second line contains an integer, k, the length of each substring.\n",
        "\n",
        "# Sample Input\n",
        "\n",
        "# STDIN       Function\n",
        "# -----       --------\n",
        "# AABCAAADA   s = 'AABCAAADA'\n",
        "# 3           k = 3\n",
        "# Sample Output\n",
        "\n",
        "# AB\n",
        "# CA\n",
        "# AD"
      ],
      "metadata": {
        "id": "9UpgwTyIl64K"
      },
      "execution_count": null,
      "outputs": []
    },
    {
      "cell_type": "code",
      "source": [
        "def merge_the_tools(string, k):\n",
        "    for i in range(0,len(string),k):\n",
        "        l = string[i:i+k]\n",
        "        l1 = dict.fromkeys(l)\n",
        "        print(''.join(l1))\n",
        "\n",
        "if __name__ == '__main__':\n",
        "    string, k = input(), int(input())\n",
        "    merge_the_tools(string, k)"
      ],
      "metadata": {
        "id": "Tw4BUxb4RfUy",
        "colab": {
          "base_uri": "https://localhost:8080/"
        },
        "outputId": "f4e56449-f6fc-4efe-f5b1-7d504f771a52"
      },
      "execution_count": 11,
      "outputs": [
        {
          "output_type": "stream",
          "name": "stdout",
          "text": [
            "AABCAAADA\n",
            "3\n",
            "AB\n",
            "CA\n",
            "AD\n"
          ]
        }
      ]
    },
    {
      "cell_type": "markdown",
      "source": [
        "**Task 6 :- collections.Counter()**"
      ],
      "metadata": {
        "id": "I8biTvVZk9Rc"
      }
    },
    {
      "cell_type": "code",
      "source": [
        "# collections.Counter()\n",
        "# A counter is a container that stores elements as dictionary keys, and their counts are stored as dictionary values.\n",
        "\n",
        "# Sample Code\n",
        "\n",
        "# >>> from collections import Counter\n",
        "# >>>\n",
        "# >>> myList = [1,1,2,3,4,5,3,2,3,4,2,1,2,3]\n",
        "# >>> print Counter(myList)\n",
        "# Counter({2: 4, 3: 4, 1: 3, 4: 2, 5: 1})\n",
        "# >>>\n",
        "# >>> print Counter(myList).items()\n",
        "# [(1, 3), (2, 4), (3, 4), (4, 2), (5, 1)]\n",
        "# >>>\n",
        "# >>> print Counter(myList).keys()\n",
        "# [1, 2, 3, 4, 5]\n",
        "# >>>\n",
        "# >>> print Counter(myList).values()\n",
        "# [3, 4, 4, 2, 1]\n",
        "\n",
        "# Input Format\n",
        "\n",
        "# The first line contains x, the number of shoes.\n",
        "# The second line contains the space separated list of all the shoe sizes in the shop.\n",
        "# The third line contains N, the number of customers.\n",
        "# The next N lines contain the space separated values of the shoe size desired by the customer and X, the price of the shoe.\n",
        "\n",
        "# Output Format\n",
        "\n",
        "# Print the amount of money earned by Raghu.\n",
        "\n",
        "# Sample Input\n",
        "\n",
        "# 10\n",
        "# 2 3 4 5 6 8 7 6 5 18\n",
        "# 6\n",
        "# 6 55\n",
        "# 6 45\n",
        "# 6 55\n",
        "# 4 40\n",
        "# 18 60\n",
        "# 10 50\n",
        "# Sample Output\n",
        "\n",
        "# 200"
      ],
      "metadata": {
        "id": "z8MipmSSlAX0"
      },
      "execution_count": null,
      "outputs": []
    },
    {
      "cell_type": "code",
      "source": [
        "from collections import Counter\n",
        "n = int(input())\n",
        "l = list(map(int,input().split()))\n",
        "n1 = int(input())\n",
        "res = []\n",
        "for i in range(n1):\n",
        "    size = list(map(int,input().split()))\n",
        "    if size[0] in l:\n",
        "        res.append(size[1])\n",
        "        l.remove(size[0])\n",
        "print(sum(res))\n",
        "\n",
        "\n"
      ],
      "metadata": {
        "id": "8-qhjSJIXrKg",
        "colab": {
          "base_uri": "https://localhost:8080/"
        },
        "outputId": "c32011a7-ddb0-40ae-82f2-2582743f1f92"
      },
      "execution_count": 12,
      "outputs": [
        {
          "output_type": "stream",
          "name": "stdout",
          "text": [
            "10\n",
            "2 3 4 5 6 8 7 6 5 18\n",
            "6\n",
            "6 55\n",
            "6 45\n",
            "6 55\n",
            "4 40\n",
            "18 60\n",
            "10 50\n",
            "200\n"
          ]
        }
      ]
    },
    {
      "cell_type": "markdown",
      "source": [
        "**Task 7 :- Exceptions**"
      ],
      "metadata": {
        "id": "2eEpEus6kSBw"
      }
    },
    {
      "cell_type": "code",
      "source": [
        "# Exceptions\n",
        "# Errors detected during execution are called exceptions.\n",
        "\n",
        "# Examples:\n",
        "\n",
        "# ZeroDivisionError\n",
        "# This error is raised when the second argument of a division or modulo operation is zero.\n",
        "\n",
        "# >>> a = '1'\n",
        "# >>> b = '0'\n",
        "# >>> print int(a) / int(b)\n",
        "# >>> ZeroDivisionError: integer division or modulo by zero\n",
        "# ValueError\n",
        "# This error is raised when a built-in operation or function receives an argument that has the right type but an inappropriate value.\n",
        "\n",
        "# >>> a = '1'\n",
        "# >>> b = '#'\n",
        "# >>> print int(a) / int(b)\n",
        "# >>> ValueError: invalid literal for int() with base 10: '#'\n",
        "# To learn more about different built-in exceptions click here.\n",
        "\n",
        "# Handling Exceptions\n",
        "# The statements try and except can be used to handle selected exceptions. A try statement may have more than one except clause to specify handlers for different exceptions.\n",
        "\n",
        "# #Code\n",
        "# try:\n",
        "#     print 1/0\n",
        "# except ZeroDivisionError as e:\n",
        "#     print \"Error Code:\",e\n",
        "# Output\n",
        "\n",
        "# Error Code: integer division or modulo by zero\n",
        "\n",
        "# Task\n",
        "\n",
        "# You are given two values a and b.\n",
        "# Perform integer division and print a/b.\n",
        "\n",
        "# Input Format\n",
        "\n",
        "# The first line contains T, the number of test cases.\n",
        "# The next T lines each contain the space separated values of a and b.\n",
        "\n",
        "# Output Format\n",
        "\n",
        "# Print the value of a/b.\n",
        "# In the case of ZeroDivisionError or ValueError, print the error code.\n",
        "\n",
        "# Sample Input\n",
        "\n",
        "# 3\n",
        "# 1 0\n",
        "# 2 $\n",
        "# 3 1\n",
        "# Sample Output\n",
        "\n",
        "# Error Code: integer division or modulo by zero\n",
        "# Error Code: invalid literal for int() with base 10: '$'\n",
        "# 3"
      ],
      "metadata": {
        "id": "tzw7URqCkdA-"
      },
      "execution_count": null,
      "outputs": []
    },
    {
      "cell_type": "code",
      "source": [
        "n = int(input())\n",
        "new = []\n",
        "for i in range(n):\n",
        "    l = list(input().split())\n",
        "    new.append(l)\n",
        "for i in new:\n",
        "    a = i[0]\n",
        "    b = i[1]\n",
        "    try:\n",
        "        c = int(a)//int(b)\n",
        "        print(c)\n",
        "    except ZeroDivisionError as e:\n",
        "        print(f'Error Code: {e}')\n",
        "    except ValueError as e:\n",
        "        print(f\"Error Code: {e}\")"
      ],
      "metadata": {
        "colab": {
          "base_uri": "https://localhost:8080/"
        },
        "id": "a-AQcDfFTlhs",
        "outputId": "0d38c15a-ba8b-4998-ae1c-7082cf490b5e"
      },
      "execution_count": 13,
      "outputs": [
        {
          "output_type": "stream",
          "name": "stdout",
          "text": [
            "3\n",
            "1 0\n",
            "2 $\n",
            "3 1\n",
            "Error Code: integer division or modulo by zero\n",
            "Error Code: invalid literal for int() with base 10: '$'\n",
            "3\n"
          ]
        }
      ]
    },
    {
      "cell_type": "markdown",
      "source": [
        "**Task 8 :- Incorrect Regex**"
      ],
      "metadata": {
        "id": "AlTmn9HJiC6B"
      }
    },
    {
      "cell_type": "code",
      "source": [
        "# You are given a string S.\n",
        "# Your task is to find out whether S is a valid regex or not.\n",
        "\n",
        "# Input Format\n",
        "\n",
        "# The first line contains integer T, the number of test cases.\n",
        "# The next T lines contains the string S.\n",
        "\n",
        "# Output Format\n",
        "\n",
        "# Print \"True\" or \"False\" for each test case without quotes.\n",
        "\n",
        "# Sample Input\n",
        "\n",
        "# 2\n",
        "# .*\\+\n",
        "# .*+\n",
        "# Sample Output\n",
        "\n",
        "# True\n",
        "# False"
      ],
      "metadata": {
        "id": "5ieSTJVUiTv7"
      },
      "execution_count": null,
      "outputs": []
    },
    {
      "cell_type": "code",
      "source": [
        "import re\n",
        "n = int(input())\n",
        "regex = []\n",
        "for _ in range(n):\n",
        "    s = input()\n",
        "    regex.append(s)\n",
        "for i in regex:\n",
        "    try:\n",
        "        re.compile(i)\n",
        "        print(True)\n",
        "    except re.error:\n",
        "        print(False)"
      ],
      "metadata": {
        "colab": {
          "base_uri": "https://localhost:8080/"
        },
        "id": "2uUGq0duh24a",
        "outputId": "d5d69ded-e922-4194-89db-7330946d9024"
      },
      "execution_count": 14,
      "outputs": [
        {
          "output_type": "stream",
          "name": "stdout",
          "text": [
            "2\n",
            ".*\\+\n",
            ".*+\n",
            "True\n",
            "False\n"
          ]
        }
      ]
    },
    {
      "cell_type": "markdown",
      "source": [
        "Task 9 :- Set .discard(), .remove() & .pop()"
      ],
      "metadata": {
        "id": "R95XstfQjc6T"
      }
    },
    {
      "cell_type": "code",
      "source": [
        "# .remove(x)\n",
        "# This operation removes element x from the set.\n",
        "# If element x does not exist, it raises a KeyError.\n",
        "# The .remove(x) operation returns None.\n",
        "\n",
        "# Input Format\n",
        "\n",
        "# The first line contains integer , the number of elements in the set .\n",
        "# The second line contains  space separated elements of set . All of the elements are non-negative integers, less than or equal to 9.\n",
        "# The third line contains integer , the number of commands.\n",
        "# The next  lines contains either pop, remove and/or discard commands followed by their associated value.\n",
        "\n",
        "# Output Format\n",
        "\n",
        "# Print the sum of the elements of set  on a single line.\n",
        "\n",
        "# Sample Input\n",
        "\n",
        "# 9\n",
        "# 1 2 3 4 5 6 7 8 9\n",
        "# 10\n",
        "# pop\n",
        "# remove 9\n",
        "# discard 9\n",
        "# discard 8\n",
        "# remove 7\n",
        "# pop\n",
        "# discard 6\n",
        "# remove 5\n",
        "# pop\n",
        "# discard 5\n",
        "# Sample Output\n",
        "\n",
        "# 4"
      ],
      "metadata": {
        "id": "TNK2e25zjkY6"
      },
      "execution_count": null,
      "outputs": []
    },
    {
      "cell_type": "code",
      "source": [
        "n = int(input())\n",
        "s = set(map(int, input().split()))\n",
        "operation = int(input())\n",
        "\n",
        "for i in range(operation):\n",
        "    l = list(input().split())\n",
        "    if 'pop' in l:\n",
        "        s.pop()\n",
        "    elif 'remove' in l:\n",
        "        s.remove(int(l[1]))\n",
        "    else:\n",
        "        s.discard(int(l[1]))\n",
        "\n",
        "new_plist = list(s)\n",
        "print(sum(new_list))"
      ],
      "metadata": {
        "colab": {
          "base_uri": "https://localhost:8080/"
        },
        "id": "So9Clg6SWnJG",
        "outputId": "c79099e0-5b71-4e16-e136-0f2c3f61feb8"
      },
      "execution_count": 16,
      "outputs": [
        {
          "output_type": "stream",
          "name": "stdout",
          "text": [
            "10\n",
            "1 2 3 4 5 6 7 8 9\n",
            "10\n",
            "pop\n",
            "remove 9\n",
            "discard 9\n",
            "discard 8\n",
            "remove 7\n",
            "pop\n",
            "discard 6\n",
            "remove 5\n",
            "pop\n",
            "discard 5\n",
            "4\n"
          ]
        }
      ]
    }
  ]
}