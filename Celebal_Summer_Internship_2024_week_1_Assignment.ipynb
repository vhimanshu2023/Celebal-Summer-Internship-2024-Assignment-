{
  "nbformat": 4,
  "nbformat_minor": 0,
  "metadata": {
    "colab": {
      "provenance": []
    },
    "kernelspec": {
      "name": "python3",
      "display_name": "Python 3"
    },
    "language_info": {
      "name": "python"
    }
  },
  "cells": [
    {
      "cell_type": "markdown",
      "source": [
        "# ***Assignment py-if-else task***"
      ],
      "metadata": {
        "id": "pWkFrBOpXfAb"
      }
    },
    {
      "cell_type": "markdown",
      "source": [
        "**TASK :- 2 Arithmetic Operators**"
      ],
      "metadata": {
        "id": "6YPa5UcHXvqq"
      }
    },
    {
      "cell_type": "code",
      "source": [
        "# The provided code stub reads two integers from STDIN, a and b .Add code to print three lines where:\n",
        "\n",
        "# 1.The first line contains the sum of the two numbers.\n",
        "# 2.The second line contains the difference of the two numbers (first - second). 3.The third line contains the product of the two numbers.\n",
        "\n",
        "# Example:\n",
        "\n",
        "# a = 3\n",
        "# b = 5\n",
        "\n",
        "# Print the follwing:\n",
        "# 8\n",
        "# -2\n",
        "# 13\n",
        "\n",
        "# Input Format\n",
        "\n",
        "# The first line contains the first integer,a .\n",
        "# The second line contains the second integer,b .\n",
        "\n",
        "# Output Format\n",
        "\n",
        "# Print the three lines as explained above.\n",
        "\n",
        "# Sample Input 0\n",
        "\n",
        "# 3\n",
        "# 2\n",
        "\n",
        "# Sample Output 0\n",
        "\n",
        "# 5\n",
        "# 1\n",
        "# 6\n",
        "\n",
        "# Explanation 0\n",
        "\n",
        "# 3+2 = 5\n",
        "# 3-2 = 1\n",
        "# 3*2 = 6"
      ],
      "metadata": {
        "id": "Arlt3ZAnYL5a"
      },
      "execution_count": null,
      "outputs": []
    },
    {
      "cell_type": "code",
      "source": [
        "if __name__ == '__main__':\n",
        "    a = int(input())\n",
        "    b = int(input())\n",
        "    print(a+b)\n",
        "    print(a-b)\n",
        "    print(a*b)"
      ],
      "metadata": {
        "colab": {
          "base_uri": "https://localhost:8080/"
        },
        "id": "DvMAV0jYYrLZ",
        "outputId": "38b17289-39ff-427c-9116-b619a28f5811"
      },
      "execution_count": 9,
      "outputs": [
        {
          "output_type": "stream",
          "name": "stdout",
          "text": [
            "2\n",
            "3\n",
            "5\n",
            "-1\n",
            "6\n"
          ]
        }
      ]
    },
    {
      "cell_type": "markdown",
      "source": [
        "**TASK 3 :- Compress the String!**"
      ],
      "metadata": {
        "id": "_Os-J99KY19Q"
      }
    },
    {
      "cell_type": "code",
      "source": [
        "# In this task, we would like for you to appreciate the usefulness of the groupby() function of itertools . To read more about this function, Check this out .\n",
        "\n",
        "# You are given a string S. Suppose a character 'c' occurs consecutively X times in the string. Replace these consecutive occurrences of the character 'c' with (X,c) in the string.\n",
        "\n",
        "# For a better understanding of the problem, check the explanation.\n",
        "\n",
        "# Input Format\n",
        "\n",
        "# A single line of input consisting of the string S.\n",
        "\n",
        "# Output Format\n",
        "\n",
        "# A single line of output consisting of the modified string.\n",
        "\n",
        "# Constraints\n",
        "\n",
        "# All the characters of denote integers between 0 and 9.\n",
        "\n",
        "# Sample Input\n",
        "\n",
        "# 1222311\n",
        "\n",
        "# Sample Output\n",
        "\n",
        "# (1, 1) (3, 2) (1, 3) (2, 1)\n",
        "\n",
        "# Explanation\n",
        "\n",
        "# First, the character 1 occurs only once. It is replaced by (1,1). Then the character 2 occurs three times, and it is replaced by (3,2) and so on.\n",
        "\n",
        "# Also, note the single space within each compression and between the compressions."
      ],
      "metadata": {
        "id": "kvmvM9FbPTcB"
      },
      "execution_count": null,
      "outputs": []
    },
    {
      "cell_type": "code",
      "source": [
        "from itertools import *\n",
        "a = input()\n",
        "for i,j in groupby(a):\n",
        "    print(tuple([len(list(j)),int(i)]),end=' ')"
      ],
      "metadata": {
        "colab": {
          "base_uri": "https://localhost:8080/"
        },
        "id": "W8pVfmK1PaiF",
        "outputId": "093c0655-0116-448b-bf7f-5dd8b026ae05"
      },
      "execution_count": 2,
      "outputs": [
        {
          "output_type": "stream",
          "name": "stdout",
          "text": [
            "1222311\n",
            "(1, 1) (3, 2) (1, 3) (2, 1) "
          ]
        }
      ]
    },
    {
      "cell_type": "markdown",
      "source": [
        "**Task 4 :- The Minion Game**"
      ],
      "metadata": {
        "id": "jsVF5yx1ZAmT"
      }
    },
    {
      "cell_type": "code",
      "source": [
        "# Kevin and Stuart want to play the 'The Minion Game'.\n",
        "\n",
        "# Game Rules\n",
        "\n",
        "# Both players are given the same string,S.\n",
        "# Both players have to make substrings using the letters of the string S.\n",
        "# Stuart has to make words starting with consonants.\n",
        "# Kevin has to make words starting with vowels.\n",
        "# The game ends when both players have made all possible substrings.\n",
        "\n",
        "# Scoring A player gets +1 point for each occurrence of the substring in the string S .\n",
        "\n",
        "# For Example:\n",
        "# String S = BANANA\n",
        "# Kevin's vowel beginning word = ANA\n",
        "# Here, ANA occurs twice in BANANA. Hence, Kevin will get 2 Points.\n",
        "\n",
        "# Our task is to determine the winner of the game and their score.\n",
        "\n",
        "# Function Description\n",
        "\n",
        "# Complete the minion_game in the editor below.\n",
        "\n",
        "# minion_game has the following parameters:\n",
        "\n",
        "# string: the string to analyze\n",
        "\n",
        "# Prints\n",
        "\n",
        "# string: the winner's name and score, separated by a space on one line, or Draw if there is no winner\n",
        "\n",
        "# Input Format\n",
        "\n",
        "# A single line of input containing the string S.\n",
        "# Note: The string S will contain only uppercase letters:[A - Z] .\n",
        "\n",
        "# Sample Input\n",
        "\n",
        "# BANANA\n",
        "\n",
        "# Sample Output\n",
        "\n",
        "# Stuart 12\n",
        "\n",
        "# Note :\n",
        "# Vowels are only defined as AEIOU. In this problem, Y is not considered a vowel."
      ],
      "metadata": {
        "id": "HXWcCls9PeZ-"
      },
      "execution_count": null,
      "outputs": []
    },
    {
      "cell_type": "code",
      "source": [
        "def minion_game(string):\n",
        "    s = string\n",
        "    stuart = 0\n",
        "    kevin = 0\n",
        "    vowel = ['A','E','I','O','U']\n",
        "    for i in range(len(s)):\n",
        "        ln = len(s[i:])\n",
        "        if s[i] in vowel:\n",
        "            kevin += ln\n",
        "        else:\n",
        "            stuart += ln\n",
        "    if stuart == kevin:\n",
        "        print('Draw')\n",
        "    elif stuart > kevin:\n",
        "        print(f'Stuart {stuart}')\n",
        "    else:\n",
        "        print(f'Kevin {kevin}')\n",
        "\n",
        "if __name__ == '__main__':\n",
        "    s = input()\n",
        "    minion_game(s)\n"
      ],
      "metadata": {
        "colab": {
          "base_uri": "https://localhost:8080/"
        },
        "id": "EYNkoWE5PjPT",
        "outputId": "67412870-cec0-48e5-a00f-b4bb8c0bd3f5"
      },
      "execution_count": 3,
      "outputs": [
        {
          "output_type": "stream",
          "name": "stdout",
          "text": [
            "BANANA\n",
            "Stuart 12\n"
          ]
        }
      ]
    },
    {
      "cell_type": "markdown",
      "source": [
        "**Task 5 :- Write a function**"
      ],
      "metadata": {
        "id": "FCddj0vwZIyX"
      }
    },
    {
      "cell_type": "code",
      "source": [
        "# An extra day is added to the calendar almost every four years as February 29, and the day is called a leap day. It corrects the calendar for the fact that our planet takes approximately 365.25 days to orbit the sun. A leap year contains a leap day.\n",
        "\n",
        "# In the Gregorian calendar, three conditions are used to identify leap years:\n",
        "\n",
        "# The year can be evenly divided by 4, is a leap year, unless:\n",
        "# The year can be evenly divided by 100, it is NOT a leap year, unless: The year is also evenly divisible by 400. Then it is a leap year.\n",
        "# This means that in the Gregorian calendar, the years 2000 and 2400 are leap years, while 1800, 1900, 2100, 2200, 2300 and 2500 are NOT leap years.\n",
        "\n",
        "# Task\n",
        "\n",
        "# Given a year, determine whether it is a leap year. If it is a leap year, return the Boolean True, otherwise return False.\n",
        "\n",
        "# Note that the code stub provided reads from STDIN and passes arguments to the is_leap function. It is only necessary to complete the is_leap function.\n",
        "\n",
        "# Input Format\n",
        "\n",
        "# Read year, the year to test.\n",
        "\n",
        "# Output Format The function must return a Boolean value (True/False). Output is handled by the provided code stub.\n",
        "\n",
        "# Sample Input 0\n",
        "\n",
        "# 1990\n",
        "\n",
        "# Sample Output 0\n",
        "\n",
        "# False\n",
        "\n",
        "# Explanation 0\n",
        "\n",
        "# 1990 is not a multiple of 4 hence it's not a leap year."
      ],
      "metadata": {
        "id": "_FWgnHhJPmfV"
      },
      "execution_count": null,
      "outputs": []
    },
    {
      "cell_type": "code",
      "source": [
        "def is_leap(year):\n",
        "    leap = False\n",
        "    if year%4==0:\n",
        "        if year%100==0:\n",
        "            if year%400==0:\n",
        "                return True\n",
        "            else:\n",
        "                return leap\n",
        "        else:\n",
        "            return True\n",
        "    else:\n",
        "        return leap\n",
        "\n",
        "\n",
        "\n",
        "year = int(input())\n",
        "print(is_leap(year))"
      ],
      "metadata": {
        "colab": {
          "base_uri": "https://localhost:8080/"
        },
        "id": "0UDzCznuPnTd",
        "outputId": "f6f7d1f2-9385-4164-9060-de103909a630"
      },
      "execution_count": 4,
      "outputs": [
        {
          "output_type": "stream",
          "name": "stdout",
          "text": [
            "1990\n",
            "False\n"
          ]
        }
      ]
    },
    {
      "cell_type": "markdown",
      "source": [
        "**Task 7 :- Iterables and Iterators**"
      ],
      "metadata": {
        "id": "XYFdeLCVZNfg"
      }
    },
    {
      "cell_type": "code",
      "source": [
        "# The itertools module standardizes a core set of fast, memory efficient tools that are useful by themselves or in combination. Together, they form an iterator algebra making it possible to construct specialized tools succinctly and efficiently in pure Python.\n",
        "\n",
        "# To read more about the functions in this module, check out their documentation here.\n",
        "\n",
        "# You are given a list of N lowercase English letters. For a given integer K, you can select any K indices (assume 1-based indexing) with a uniform probability from the list.\n",
        "\n",
        "# Find the probability that at least one of the K indices selected will contain the letter: 'a'.\n",
        "\n",
        "# Input Format\n",
        "\n",
        "# The input consists of three lines. The first line contains the integer N, denoting the length of the list. The next line consists of N space-separated lowercase English letters, denoting the elements of the list.\n",
        "\n",
        "# The third and the last line of input contains the integer K, denoting the number of indices to be selected.\n",
        "\n",
        "# Output Format\n",
        "\n",
        "# Output a single line consisting of the probability that at least one of the K indices selected contains the letter:'a'.\n",
        "\n",
        "# Note: The answer must be correct up to 3 decimal places.\n",
        "\n",
        "# Sample Input\n",
        "\n",
        "# 4\n",
        "# a a c d\n",
        "# 2\n",
        "\n",
        "# Sample Output\n",
        "\n",
        "# 0.8333\n",
        "\n",
        "# Explanation\n",
        "\n",
        "# All possible unordered tuples of length 2 comprising of indices from 1 to 4 are: (1,2),(1,3),(1,4),(2,3),(2,4),(3,4)\n",
        "\n",
        "# Out of these 6 combinations, 5 of them contain either index 1 or index 2 which are the indices that contain the letter 'a'.\n",
        "\n",
        "# Hence, the answer is 5/6."
      ],
      "metadata": {
        "id": "hDMECNX4Pr06"
      },
      "execution_count": null,
      "outputs": []
    },
    {
      "cell_type": "code",
      "source": [
        "from itertools import combinations\n",
        "\n",
        "a = int(input())\n",
        "s = input().split()\n",
        "b = int(input())\n",
        "\n",
        "comb = combinations(s,b)\n",
        "overall_len = 0\n",
        "contain_a = 0\n",
        "for i in comb:\n",
        "    if 'a' in i:\n",
        "        contain_a += 1\n",
        "    overall_len += 1\n",
        "print(f'{contain_a/overall_len:.3f}')"
      ],
      "metadata": {
        "colab": {
          "base_uri": "https://localhost:8080/"
        },
        "id": "5_zrEhsUPpzR",
        "outputId": "60b72c1c-82d9-4ab9-f26a-0496315237a1"
      },
      "execution_count": 5,
      "outputs": [
        {
          "output_type": "stream",
          "name": "stdout",
          "text": [
            "4\n",
            "a a c d\n",
            "2\n",
            "0.833\n"
          ]
        }
      ]
    },
    {
      "cell_type": "markdown",
      "source": [
        "**Task 8 :- Tuples**"
      ],
      "metadata": {
        "id": "htBqVDtvZRdp"
      }
    },
    {
      "cell_type": "code",
      "source": [
        "# Given an integer,n , and n space-separated integers as input, create a tuple,t, of those n integers. Then compute and print the result of hash(t).\n",
        "\n",
        "# Note: hash() is one of the functions in the builtins module, so it need not be imported.\n",
        "\n",
        "# Input Format\n",
        "\n",
        "# The first line contains an integer,n , denoting the number of elements in the tuple. The second line contains n space-separated integers describing the elements in tuple t.\n",
        "\n",
        "# Output Format\n",
        "\n",
        "# Print the result of hash(t) .\n",
        "\n",
        "# Sample Input 0\n",
        "\n",
        "# 2\n",
        "# 1 2\n",
        "\n",
        "# Sample Output 0\n",
        "\n",
        "# 3713081631934410656\n",
        "\n",
        "# Issue: This hackerrank problem has issue with Python 3 but It works in PYpy3 on hackerrank."
      ],
      "metadata": {
        "id": "iRteDr9wPwoM"
      },
      "execution_count": null,
      "outputs": []
    },
    {
      "cell_type": "code",
      "source": [
        "if __name__ == '__main__':\n",
        "    n = int(input())\n",
        "    integer_list = map(int, input().split())\n",
        "    res = tuple(integer_list)\n",
        "    print(hash(res))"
      ],
      "metadata": {
        "colab": {
          "base_uri": "https://localhost:8080/"
        },
        "id": "fahfp4l_P1zX",
        "outputId": "df77aee2-364b-4d92-cad0-6df61fc32eae"
      },
      "execution_count": 6,
      "outputs": [
        {
          "output_type": "stream",
          "name": "stdout",
          "text": [
            "2\n",
            "1 2\n",
            "-3550055125485641917\n"
          ]
        }
      ]
    },
    {
      "cell_type": "markdown",
      "source": [
        "**Task 9 :- Finding the percentage**"
      ],
      "metadata": {
        "id": "0q9OCucAZWRH"
      }
    },
    {
      "cell_type": "code",
      "source": [
        "# The provided code stub will read in a dictionary containing key/value pairs of name:[marks] for a list of students. Print the average of the marks array for the student name provided, showing 2 places after the decimal.\n",
        "\n",
        "# Example marks key:value pairs are 'alpha':[20,30,40] 'beta':[30,50,70] query_name = 'beta'\n",
        "\n",
        "# The query_name is 'beta'.beta's average score is (30+50+70)/3 = 50.0.\n",
        "\n",
        "# Input Format\n",
        "\n",
        "# The first line contains the integer n, the number of students' records. The next n lines contain the names and marks obtained by a student, each value separated by a space. The final line contains query_name, the name of a student to query.\n",
        "\n",
        "# Output Format\n",
        "\n",
        "# Print one line: The average of the marks obtained by the particular student correct to 2 decimal places.\n",
        "\n",
        "# Sample Input 0\n",
        "\n",
        "# 3\n",
        "# Krishna 67 68 69\n",
        "# Arjun 70 98 63\n",
        "# Malika 52 56 60\n",
        "# Malika\n",
        "\n",
        "# Sample Output 0\n",
        "\n",
        "# 56.00"
      ],
      "metadata": {
        "id": "WMFT1FtNP5u2"
      },
      "execution_count": null,
      "outputs": []
    },
    {
      "cell_type": "code",
      "source": [
        "if __name__ == '__main__':\n",
        "    n = int(input())\n",
        "    student_marks = {}\n",
        "    for _ in range(n):\n",
        "        name, *line = input().split()\n",
        "        scores = list(map(float, line))\n",
        "        student_marks[name] = scores\n",
        "    query_name = input()\n",
        "    for key,value in student_marks.items():\n",
        "        if key == query_name:\n",
        "            print(f'{sum(value)/len(student_marks[key]):.2f}')\n",
        "            break"
      ],
      "metadata": {
        "colab": {
          "base_uri": "https://localhost:8080/"
        },
        "id": "hFqWF24HP6al",
        "outputId": "95fb609a-3438-4c15-fcc8-aa17fb7814a6"
      },
      "execution_count": 7,
      "outputs": [
        {
          "output_type": "stream",
          "name": "stdout",
          "text": [
            "3\n",
            "krishna 67 68 69\n",
            "rjun 70 98 63\n",
            "malika 52 56 60\n",
            "malika\n",
            "56.00\n"
          ]
        }
      ]
    },
    {
      "cell_type": "markdown",
      "source": [
        "**Task 10 :- String Formatting**"
      ],
      "metadata": {
        "id": "7_FYaXjvZaVf"
      }
    },
    {
      "cell_type": "code",
      "source": [
        "# Given an integer,n , print the following values for each integer i from 1 to n :\n",
        "\n",
        "# 1.Decimal\n",
        "# 2.Octal\n",
        "# 3.Hexadecimal (capitalized)\n",
        "# 4.Binary\n",
        "\n",
        "# Function Description\n",
        "\n",
        "# Complete the print_formatted function in the editor below.\n",
        "\n",
        "# print_formatted has the following parameters:\n",
        "\n",
        "# ___int number: the maximum value to print\n",
        "\n",
        "# Prints\n",
        "\n",
        "# The four values must be printed on a single line in the order specified above for each i from 1 to number . Each value should be space-padded to match the width of the binary value of number and the values should be separated by a single space.\n",
        "\n",
        "# Input Format\n",
        "\n",
        "# A single integer denoting n.\n",
        "\n",
        "# Sample Input\n",
        "\n",
        "# 17\n",
        "\n",
        "# Sample Output\n",
        "\n",
        "# 1     1     1     1\n",
        "# 2     2     2    10\n",
        "# 3     3     3    11\n",
        "# 4     4     4   100\n",
        "# 5     5     5   101\n",
        "# 6     6     6   110\n",
        "# 7     7     7   111\n",
        "# 8    10     8  1000\n",
        "# 9    11     9  1001\n",
        "# 10    12     A  1010\n",
        "# 11    13     B  1011\n",
        "# 12    14     C  1100\n",
        "# 13    15     D  1101\n",
        "# 14    16     E  1110\n",
        "# 15    17     F  1111\n",
        "# 16    20    10 10000\n",
        "# 17    21    11 10001"
      ],
      "metadata": {
        "id": "b-cDqioUP-eL"
      },
      "execution_count": null,
      "outputs": []
    },
    {
      "cell_type": "code",
      "source": [
        "def print_formatted(number):\n",
        "    l = len(\"{0:b}\".format(number))\n",
        "\n",
        "    for i in range (1, number+1):\n",
        "\n",
        "        print(\"{0:{w}d} {0:{w}o} {0:{w}X} {0:{w}b}\".format(i,w=l))\n",
        "if __name__ == '__main__':\n",
        "    n = int(input())\n",
        "    print_formatted(n)"
      ],
      "metadata": {
        "colab": {
          "base_uri": "https://localhost:8080/"
        },
        "id": "6YiFKN63QACL",
        "outputId": "84aad0cc-d7bc-488c-b6e3-73d4d0284a70"
      },
      "execution_count": 8,
      "outputs": [
        {
          "output_type": "stream",
          "name": "stdout",
          "text": [
            "17\n",
            "    1     1     1     1\n",
            "    2     2     2    10\n",
            "    3     3     3    11\n",
            "    4     4     4   100\n",
            "    5     5     5   101\n",
            "    6     6     6   110\n",
            "    7     7     7   111\n",
            "    8    10     8  1000\n",
            "    9    11     9  1001\n",
            "   10    12     A  1010\n",
            "   11    13     B  1011\n",
            "   12    14     C  1100\n",
            "   13    15     D  1101\n",
            "   14    16     E  1110\n",
            "   15    17     F  1111\n",
            "   16    20    10 10000\n",
            "   17    21    11 10001\n"
          ]
        }
      ]
    }
  ]
}